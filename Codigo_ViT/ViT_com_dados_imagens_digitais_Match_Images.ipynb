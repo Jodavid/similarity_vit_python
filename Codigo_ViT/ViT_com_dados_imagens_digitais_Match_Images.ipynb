{
  "cells": [
    {
      "cell_type": "markdown",
      "metadata": {
        "id": "1UPjELpQU3YU"
      },
      "source": [
        "### Passos necessários\n",
        "\n",
        "1. Ler Embeddings criados,\n",
        "2. Ler uma nova imagem, fazer pre-processamento e criar embeddings\n",
        "3. Fazer a similaridades com as imagens da base"
      ]
    },
    {
      "cell_type": "code",
      "execution_count": null,
      "metadata": {
        "id": "48ASC9BkSx0-"
      },
      "outputs": [],
      "source": [
        "# Lendo as bibliotecas\n",
        "from transformers import ViTImageProcessor, ViTModel\n",
        "from PIL import Image\n",
        "#import requests\n",
        "#import os\n",
        "import torch\n",
        "\n",
        "#import io\n",
        "from rembg import remove\n",
        "\n",
        "\n",
        "\n",
        "import pandas as pd\n",
        "import numpy as np\n",
        "#import matplotlib.pyplot as plt\n",
        "\n",
        "import faiss\n"
      ]
    },
    {
      "cell_type": "code",
      "execution_count": null,
      "metadata": {},
      "outputs": [],
      "source": [
        "lista = pd.read_csv(\"database/indices_imagens_preprocessadas.csv\")"
      ]
    },
    {
      "cell_type": "code",
      "execution_count": null,
      "metadata": {
        "id": "eL7MeQskDMwJ"
      },
      "outputs": [],
      "source": [
        "# Ler o índice do arquivo\n",
        "index = faiss.read_index('faiss_index_embeddings/vector_databases_faiss_index.index')  # Carrega o índice de um arquivo\n"
      ]
    },
    {
      "cell_type": "code",
      "execution_count": null,
      "metadata": {
        "colab": {
          "base_uri": "https://localhost:8080/"
        },
        "id": "GuVWjG0_6TgJ",
        "outputId": "4ec8b2ec-7c4e-40e0-f54a-9e0fad30cfdc"
      },
      "outputs": [],
      "source": [
        "print(f\"Número de itens no índice: {index.ntotal}\")"
      ]
    },
    {
      "cell_type": "code",
      "execution_count": null,
      "metadata": {
        "id": "ddCy63pt1ced"
      },
      "outputs": [],
      "source": [
        "# Lendo algoritmo ViT - PreTrained\n",
        "processor = ViTImageProcessor.from_pretrained('google/vit-base-patch16-224')\n",
        "model = ViTModel.from_pretrained('google/vit-base-patch16-224')"
      ]
    },
    {
      "cell_type": "code",
      "execution_count": null,
      "metadata": {},
      "outputs": [],
      "source": [
        "# Processar a nova imagem\n",
        "arquivo = \"database/natural_images/airplane/airplane_0004.jpg\"\n",
        "#arquivo = \"Imagens_teste/gato3.jpeg\"\n",
        "imagem = Image.open(arquivo)\n",
        "img_redimensionada = imagem.resize((224, 224), Image.LANCZOS) # Usando LANCZOS para melhor qualidade\n",
        "bytes_saida = remove(img_redimensionada)\n",
        "novaimagem = bytes_saida.convert('RGB')"
      ]
    },
    {
      "cell_type": "code",
      "execution_count": null,
      "metadata": {},
      "outputs": [],
      "source": [
        "largura_celula = 224\n",
        "altura_celula = 224\n",
        "\n",
        "largura_total = largura_celula * 2\n",
        "altura_total = altura_celula\n",
        "grade_final = Image.new('RGB', (largura_total, altura_total))\n",
        "\n",
        "grade_final.paste(img_redimensionada, (0, 0))\n",
        "grade_final.paste(novaimagem, (largura_celula, 0))\n"
      ]
    },
    {
      "cell_type": "code",
      "execution_count": null,
      "metadata": {},
      "outputs": [],
      "source": [
        "grade_final"
      ]
    },
    {
      "cell_type": "code",
      "execution_count": null,
      "metadata": {},
      "outputs": [],
      "source": [
        "inputs = processor(images=novaimagem, return_tensors=\"pt\")\n",
        "with torch.no_grad():\n",
        "    outputs = model(**inputs)\n",
        "cls_embedding = outputs.last_hidden_state[:, 0, :]  # shape: [1, 768]\n",
        "nova_embedding = cls_embedding.numpy()\n",
        "# Normalize os embeddings (para usar distância do cosseno)\n",
        "nova_embedding = nova_embedding / np.linalg.norm(nova_embedding, axis=1, keepdims=True)"
      ]
    },
    {
      "cell_type": "code",
      "execution_count": null,
      "metadata": {},
      "outputs": [],
      "source": [
        "# Buscando as k imagens mais próximas no índice\n",
        "k = 4  # Número de imagens semelhantes a buscar\n",
        "distances, indices = index.search(nova_embedding, k)\n",
        "# Imagens Retornadas\n",
        "imagens_retornadas = [i for i in indices[0]]\n",
        "print(imagens_retornadas)"
      ]
    },
    {
      "cell_type": "code",
      "execution_count": null,
      "metadata": {},
      "outputs": [],
      "source": [
        "# Valores da distância do Cosseno\n",
        "distances"
      ]
    },
    {
      "cell_type": "code",
      "execution_count": null,
      "metadata": {},
      "outputs": [],
      "source": [
        "# Criando uma sublista apenas com as imagens retornadas\n",
        "sublista = lista[lista['indice'].isin(imagens_retornadas)]"
      ]
    },
    {
      "cell_type": "code",
      "execution_count": null,
      "metadata": {},
      "outputs": [],
      "source": [
        "# Criando uma array com das imagens\n",
        "novasimagem = []\n",
        "\n",
        "for i in range(len(sublista)):\n",
        "    imgpath = sublista.iloc[i][1]\n",
        "    # Processar a nova imagem\n",
        "    imagem = Image.open(imgpath)\n",
        "    img_redimensionada = imagem.resize((640, 480), Image.LANCZOS) # Usando LANCZOS para melhor qualidade\n",
        "    novaimagem = img_redimensionada.convert('RGB')\n",
        "    novasimagem.append(novaimagem)"
      ]
    },
    {
      "cell_type": "code",
      "execution_count": null,
      "metadata": {},
      "outputs": [],
      "source": [
        "largura_celula = 640\n",
        "altura_celula = 480\n",
        "\n",
        "largura_total = largura_celula * 2\n",
        "altura_total = altura_celula * 2\n",
        "grade_final = Image.new('RGB', (largura_total, altura_total))\n",
        "\n",
        "grade_final.paste(novasimagem[0], (0, 0))\n",
        "grade_final.paste(novasimagem[1], (largura_celula, 0))\n",
        "grade_final.paste(novasimagem[2], (0, altura_celula))\n",
        "grade_final.paste(novasimagem[3], (largura_celula, altura_celula))\n",
        "\n",
        "# Mostra a imagem da grade na tela\n",
        "print(\"Exibindo a grade de imagens na tela...\")\n",
        "grade_final.show()"
      ]
    },
    {
      "cell_type": "code",
      "execution_count": null,
      "metadata": {},
      "outputs": [],
      "source": []
    }
  ],
  "metadata": {
    "colab": {
      "provenance": []
    },
    "kernelspec": {
      "display_name": "Python 3",
      "name": "python3"
    },
    "language_info": {
      "name": "python"
    }
  },
  "nbformat": 4,
  "nbformat_minor": 0
}
